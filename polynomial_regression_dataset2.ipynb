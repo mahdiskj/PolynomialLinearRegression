{
  "nbformat": 4,
  "nbformat_minor": 0,
  "metadata": {
    "colab": {
      "name": "polynomial_regression_dataset2.ipynb",
      "provenance": [],
      "collapsed_sections": [],
      "toc_visible": true,
      "include_colab_link": true
    },
    "kernelspec": {
      "name": "python3",
      "display_name": "Python 3"
    }
  },
  "cells": [
    {
      "cell_type": "markdown",
      "metadata": {
        "id": "view-in-github",
        "colab_type": "text"
      },
      "source": [
        "<a href=\"https://colab.research.google.com/github/mahdiskj/PolynomialLinearRegression/blob/main/polynomial_regression_dataset2.ipynb\" target=\"_parent\"><img src=\"https://colab.research.google.com/assets/colab-badge.svg\" alt=\"Open In Colab\"/></a>"
      ]
    },
    {
      "cell_type": "markdown",
      "metadata": {
        "id": "vN99YjPTDena"
      },
      "source": [
        "# Polynomial Regression"
      ]
    },
    {
      "cell_type": "markdown",
      "metadata": {
        "id": "ZIx_naXnDyHd"
      },
      "source": [
        "## Importing the libraries"
      ]
    },
    {
      "cell_type": "code",
      "metadata": {
        "id": "FjnmdyPLD2tS"
      },
      "source": [
        "import numpy as np\n",
        "import matplotlib.pyplot as plt\n",
        "import pandas as pd"
      ],
      "execution_count": 1,
      "outputs": []
    },
    {
      "cell_type": "markdown",
      "metadata": {
        "id": "6c8YExmOD5x5"
      },
      "source": [
        "## Importing the dataset"
      ]
    },
    {
      "cell_type": "code",
      "metadata": {
        "id": "nQOdXhjXD_AE"
      },
      "source": [
        "dataset = pd.read_csv('polynomial-regression.csv')\n",
        "X = dataset.iloc[:, 0:-1].values\n",
        "y = dataset.iloc[:, -1].values"
      ],
      "execution_count": 4,
      "outputs": []
    },
    {
      "cell_type": "code",
      "metadata": {
        "colab": {
          "base_uri": "https://localhost:8080/"
        },
        "id": "wOwV7wPPwVYe",
        "outputId": "633cf8b9-3045-4993-e1f6-334ed2d25dab"
      },
      "source": [
        "print(X)\r\n",
        "print(y)"
      ],
      "execution_count": 5,
      "outputs": [
        {
          "output_type": "stream",
          "text": [
            "[[  60]\n",
            " [  70]\n",
            " [  80]\n",
            " [ 100]\n",
            " [ 120]\n",
            " [ 150]\n",
            " [ 200]\n",
            " [ 250]\n",
            " [ 300]\n",
            " [ 400]\n",
            " [ 500]\n",
            " [ 750]\n",
            " [1000]\n",
            " [2000]\n",
            " [3000]]\n",
            "[180 180 200 200 200 220 240 240 300 350 350 360 365 365 365]\n"
          ],
          "name": "stdout"
        }
      ]
    },
    {
      "cell_type": "markdown",
      "metadata": {
        "id": "Rb5nWuSHEfBV"
      },
      "source": [
        "## Training the Polynomial Regression model on the whole dataset"
      ]
    },
    {
      "cell_type": "code",
      "metadata": {
        "colab": {
          "base_uri": "https://localhost:8080/"
        },
        "id": "JXSWeWw16D5Z",
        "outputId": "0a579ede-0bdd-4265-d8c1-af690fc9ae19"
      },
      "source": [
        "from sklearn.preprocessing import PolynomialFeatures\r\n",
        "# here we should define our polynominal features by the 'PolynomialFeatures' class\r\n",
        "#the value of 'degree' is usually chosen by trial and error procedure \r\n",
        "# 'degree' is the 'n' power in regression equation\r\n",
        "poly_fea = PolynomialFeatures(degree = 4)\r\n",
        "X_poly = poly_fea.fit_transform(X)\r\n",
        "print(X)\r\n",
        "print(X_poly)"
      ],
      "execution_count": 19,
      "outputs": [
        {
          "output_type": "stream",
          "text": [
            "[[  60]\n",
            " [  70]\n",
            " [  80]\n",
            " [ 100]\n",
            " [ 120]\n",
            " [ 150]\n",
            " [ 200]\n",
            " [ 250]\n",
            " [ 300]\n",
            " [ 400]\n",
            " [ 500]\n",
            " [ 750]\n",
            " [1000]\n",
            " [2000]\n",
            " [3000]]\n",
            "[[1.0000000e+00 6.0000000e+01 3.6000000e+03 2.1600000e+05 1.2960000e+07]\n",
            " [1.0000000e+00 7.0000000e+01 4.9000000e+03 3.4300000e+05 2.4010000e+07]\n",
            " [1.0000000e+00 8.0000000e+01 6.4000000e+03 5.1200000e+05 4.0960000e+07]\n",
            " [1.0000000e+00 1.0000000e+02 1.0000000e+04 1.0000000e+06 1.0000000e+08]\n",
            " [1.0000000e+00 1.2000000e+02 1.4400000e+04 1.7280000e+06 2.0736000e+08]\n",
            " [1.0000000e+00 1.5000000e+02 2.2500000e+04 3.3750000e+06 5.0625000e+08]\n",
            " [1.0000000e+00 2.0000000e+02 4.0000000e+04 8.0000000e+06 1.6000000e+09]\n",
            " [1.0000000e+00 2.5000000e+02 6.2500000e+04 1.5625000e+07 3.9062500e+09]\n",
            " [1.0000000e+00 3.0000000e+02 9.0000000e+04 2.7000000e+07 8.1000000e+09]\n",
            " [1.0000000e+00 4.0000000e+02 1.6000000e+05 6.4000000e+07 2.5600000e+10]\n",
            " [1.0000000e+00 5.0000000e+02 2.5000000e+05 1.2500000e+08 6.2500000e+10]\n",
            " [1.0000000e+00 7.5000000e+02 5.6250000e+05 4.2187500e+08 3.1640625e+11]\n",
            " [1.0000000e+00 1.0000000e+03 1.0000000e+06 1.0000000e+09 1.0000000e+12]\n",
            " [1.0000000e+00 2.0000000e+03 4.0000000e+06 8.0000000e+09 1.6000000e+13]\n",
            " [1.0000000e+00 3.0000000e+03 9.0000000e+06 2.7000000e+10 8.1000000e+13]]\n"
          ],
          "name": "stdout"
        }
      ]
    },
    {
      "cell_type": "code",
      "metadata": {
        "id": "HYplp4pTEm0O",
        "colab": {
          "base_uri": "https://localhost:8080/"
        },
        "outputId": "c5feb2f2-1fad-4995-826c-0e6e90600548"
      },
      "source": [
        "\n",
        "from sklearn.linear_model import LinearRegression\n",
        "poly_reg = LinearRegression()\n",
        "poly_reg.fit(X_poly, y)"
      ],
      "execution_count": 20,
      "outputs": [
        {
          "output_type": "execute_result",
          "data": {
            "text/plain": [
              "LinearRegression(copy_X=True, fit_intercept=True, n_jobs=None, normalize=False)"
            ]
          },
          "metadata": {
            "tags": []
          },
          "execution_count": 20
        }
      ]
    },
    {
      "cell_type": "markdown",
      "metadata": {
        "id": "stOnSo74E52m"
      },
      "source": [
        "## Visualising the Polynomial Regression results"
      ]
    },
    {
      "cell_type": "code",
      "metadata": {
        "id": "UCOcurIQE7Zv",
        "colab": {
          "base_uri": "https://localhost:8080/",
          "height": 295
        },
        "outputId": "c4642ce1-e3e2-4412-d77c-6d2016341b0e"
      },
      "source": [
        "plt.scatter(X, y, color = 'red')\n",
        "plt.plot(X, poly_reg.predict(X_poly), color = 'blue')\n",
        "plt.title('Polynomial Regression')\n",
        "plt.xlabel('input')\n",
        "plt.ylabel('output')\n",
        "plt.show()"
      ],
      "execution_count": 21,
      "outputs": [
        {
          "output_type": "display_data",
          "data": {
            "image/png": "[encoded data removed]",
            "text/plain": [
              "<Figure size 432x288 with 1 Axes>"
            ]
          },
          "metadata": {
            "tags": [],
            "needs_background": "light"
          }
        }
      ]
    },
    {
      "cell_type": "markdown",
      "metadata": {
        "id": "U_qsAMKnE-PJ"
      },
      "source": [
        "## Visualising the Polynomial Regression results (for higher resolution and smoother curve)"
      ]
    },
    {
      "cell_type": "code",
      "metadata": {
        "id": "iE6EnC3fFClE",
        "colab": {
          "base_uri": "https://localhost:8080/",
          "height": 295
        },
        "outputId": "b10c499e-a5a2-4ac1-8083-ab6f7c51e37e"
      },
      "source": [
        "# 0.1 is the step\n",
        "X_grid = np.arange(min(X), max(X), 0.05)\n",
        "X_grid = X_grid.reshape((len(X_grid), 1))\n",
        "plt.scatter(X, y, color = 'red')\n",
        "plt.plot(X_grid, poly_reg.predict(poly_fea.fit_transform(X_grid)), color = 'blue')\n",
        "plt.title('Truth or Bluff (Polynomial Regression)')\n",
        "plt.xlabel('Position level')\n",
        "plt.ylabel('Salary')\n",
        "plt.show()"
      ],
      "execution_count": 27,
      "outputs": [
        {
          "output_type": "display_data",
          "data": {
            "image/png": "[encoded data removed]",
            "text/plain": [
              "<Figure size 432x288 with 1 Axes>"
            ]
          },
          "metadata": {
            "tags": [],
            "needs_background": "light"
          }
        }
      ]
    }
  ]
}